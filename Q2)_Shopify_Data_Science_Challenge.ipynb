{
  "nbformat": 4,
  "nbformat_minor": 0,
  "metadata": {
    "colab": {
      "name": "Q2) Shopify Data Science Challenge.ipynb",
      "provenance": []
    },
    "kernelspec": {
      "name": "python3",
      "display_name": "Python 3"
    }
  },
  "cells": [
    {
      "cell_type": "markdown",
      "metadata": {
        "id": "kWjcqW8C1kGn",
        "colab_type": "text"
      },
      "source": [
        "### **Question 2: For this question you’ll need to use SQL. Follow this link to access the data set required for the challenge. Please use queries to answer the following questions. Paste your queries along with your final numerical answers below.**"
      ]
    },
    {
      "cell_type": "markdown",
      "metadata": {
        "id": "v1-6ofAS1xVU",
        "colab_type": "text"
      },
      "source": [
        "### **A. How many orders were shipped by Speedy Express in total?**\n"
      ]
    },
    {
      "cell_type": "markdown",
      "metadata": {
        "id": "-Yxm-MMg2kMG",
        "colab_type": "text"
      },
      "source": [
        "\n",
        "\n",
        "```\n",
        "SELECT COUNT(*) AS NumOrders\n",
        "FROM [Orders]\n",
        "JOIN [Shippers]\n",
        "    ON [Shippers].ShipperID = [Orders].ShipperID\n",
        "WHERE [Shippers].ShipperName = 'Speedy Express' \n",
        "```\n",
        "\n"
      ]
    },
    {
      "cell_type": "markdown",
      "metadata": {
        "colab_type": "text",
        "id": "roGN4rIZ19-g"
      },
      "source": [
        "### **B. What is the last name of the employee with the most orders?**\n"
      ]
    },
    {
      "cell_type": "markdown",
      "metadata": {
        "id": "4h2MGyi922vm",
        "colab_type": "text"
      },
      "source": [
        "\n",
        "\n",
        "```\n",
        "SELECT [Employees].LastName, \n",
        "   COUNT(*) AS NumOrders \n",
        "\n",
        "-- Joined both datasets Orders and Employees together using the column EmployeeID which was present in both datasets\n",
        "FROM [Orders]\n",
        "JOIN [Employees]\n",
        "  ON [Orders].EmployeeID = [Employees].EmployeeID\n",
        "\n",
        "-- Group the data by unique LastName value, printed 1st value of data in descending order to get the Employees' LastName that has the most orders\n",
        "GROUP BY [Employees].LastName\n",
        "ORDER BY NumOrders DESC\n",
        "LIMIT 1\n",
        "```\n",
        "\n"
      ]
    },
    {
      "cell_type": "markdown",
      "metadata": {
        "id": "e_lw7XTl2Ehq",
        "colab_type": "text"
      },
      "source": [
        "### **C. What product was ordered the most by customers in Germany?**"
      ]
    },
    {
      "cell_type": "markdown",
      "metadata": {
        "id": "4kouOSMhgqpn",
        "colab_type": "text"
      },
      "source": [
        "To answer this question, I first had to join the datasets Customers, Orders, OrderDetails, and Products.\n",
        "\n",
        "After joining the datasets, now I have all the information in one table to answer this question. I group the dataset by each unique ProductName, calculated the sum of the TotalQuantity for each unique ProductName, ordered the dataset in descending order, and printed out the 1st value. "
      ]
    },
    {
      "cell_type": "markdown",
      "metadata": {
        "id": "UyiHQd5i3oEC",
        "colab_type": "text"
      },
      "source": [
        "\n",
        "\n",
        "```\n",
        "SELECT  [Products].ProductName,\n",
        "\t\tSUM([OrderDetails].Quantity) AS \"TotalQuantity\"\n",
        "\n",
        "FROM [Customers]\n",
        "JOIN [Orders]\n",
        "    ON [Orders].CustomerID = [Customers].CustomerID\n",
        "JOIN [OrderDetails]\n",
        "    ON [OrderDetails].OrderID = [Orders].OrderID\n",
        "JOIN [Products]\n",
        "    ON [Products].ProductID = [OrderDetails].ProductID\n",
        "WHERE [Customers].Country = 'Germany'\n",
        "\n",
        "GROUP BY [Products].ProductName\n",
        "ORDER BY TotalQuantity DESC\n",
        "LIMIT 1\n",
        "```\n",
        "\n"
      ]
    }
  ]
}